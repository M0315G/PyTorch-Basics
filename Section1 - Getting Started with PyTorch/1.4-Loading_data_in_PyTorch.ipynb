{
  "nbformat": 4,
  "nbformat_minor": 0,
  "metadata": {
    "colab": {
      "name": "1.4-Loading data in PyTorch.ipynb",
      "provenance": [],
      "authorship_tag": "ABX9TyPkvwOY/bzMDi0HVt3Ujva1",
      "include_colab_link": true
    },
    "kernelspec": {
      "name": "python3",
      "display_name": "Python 3"
    },
    "language_info": {
      "name": "python"
    },
    "widgets": {
      "application/vnd.jupyter.widget-state+json": {
        "e83e248529ab4718a36f70350396adfc": {
          "model_module": "@jupyter-widgets/controls",
          "model_name": "HBoxModel",
          "state": {
            "_view_name": "HBoxView",
            "_dom_classes": [],
            "_model_name": "HBoxModel",
            "_view_module": "@jupyter-widgets/controls",
            "_model_module_version": "1.5.0",
            "_view_count": null,
            "_view_module_version": "1.5.0",
            "box_style": "",
            "layout": "IPY_MODEL_3f2b6a0389324db08bd088f0b551f53e",
            "_model_module": "@jupyter-widgets/controls",
            "children": [
              "IPY_MODEL_f7adbb2c3ea142ab98f84ec51aef9505",
              "IPY_MODEL_230780aefbb94907afbb233d7b05b5aa"
            ]
          }
        },
        "3f2b6a0389324db08bd088f0b551f53e": {
          "model_module": "@jupyter-widgets/base",
          "model_name": "LayoutModel",
          "state": {
            "_view_name": "LayoutView",
            "grid_template_rows": null,
            "right": null,
            "justify_content": null,
            "_view_module": "@jupyter-widgets/base",
            "overflow": null,
            "_model_module_version": "1.2.0",
            "_view_count": null,
            "flex_flow": null,
            "width": null,
            "min_width": null,
            "border": null,
            "align_items": null,
            "bottom": null,
            "_model_module": "@jupyter-widgets/base",
            "top": null,
            "grid_column": null,
            "overflow_y": null,
            "overflow_x": null,
            "grid_auto_flow": null,
            "grid_area": null,
            "grid_template_columns": null,
            "flex": null,
            "_model_name": "LayoutModel",
            "justify_items": null,
            "grid_row": null,
            "max_height": null,
            "align_content": null,
            "visibility": null,
            "align_self": null,
            "height": null,
            "min_height": null,
            "padding": null,
            "grid_auto_rows": null,
            "grid_gap": null,
            "max_width": null,
            "order": null,
            "_view_module_version": "1.2.0",
            "grid_template_areas": null,
            "object_position": null,
            "object_fit": null,
            "grid_auto_columns": null,
            "margin": null,
            "display": null,
            "left": null
          }
        },
        "f7adbb2c3ea142ab98f84ec51aef9505": {
          "model_module": "@jupyter-widgets/controls",
          "model_name": "FloatProgressModel",
          "state": {
            "_view_name": "ProgressView",
            "style": "IPY_MODEL_69bb111fd9a548869895a67827a2d676",
            "_dom_classes": [],
            "description": "",
            "_model_name": "FloatProgressModel",
            "bar_style": "success",
            "max": 170498071,
            "_view_module": "@jupyter-widgets/controls",
            "_model_module_version": "1.5.0",
            "value": 170498071,
            "_view_count": null,
            "_view_module_version": "1.5.0",
            "orientation": "horizontal",
            "min": 0,
            "description_tooltip": null,
            "_model_module": "@jupyter-widgets/controls",
            "layout": "IPY_MODEL_1a6adafb8d9f47ff87eba79f85e5423e"
          }
        },
        "230780aefbb94907afbb233d7b05b5aa": {
          "model_module": "@jupyter-widgets/controls",
          "model_name": "HTMLModel",
          "state": {
            "_view_name": "HTMLView",
            "style": "IPY_MODEL_04e7e1d80b14433c84302e69f45b790e",
            "_dom_classes": [],
            "description": "",
            "_model_name": "HTMLModel",
            "placeholder": "​",
            "_view_module": "@jupyter-widgets/controls",
            "_model_module_version": "1.5.0",
            "value": " 170499072/? [00:23&lt;00:00, 7258993.40it/s]",
            "_view_count": null,
            "_view_module_version": "1.5.0",
            "description_tooltip": null,
            "_model_module": "@jupyter-widgets/controls",
            "layout": "IPY_MODEL_2325b7e8325042848d13d8057e1655b1"
          }
        },
        "69bb111fd9a548869895a67827a2d676": {
          "model_module": "@jupyter-widgets/controls",
          "model_name": "ProgressStyleModel",
          "state": {
            "_view_name": "StyleView",
            "_model_name": "ProgressStyleModel",
            "description_width": "initial",
            "_view_module": "@jupyter-widgets/base",
            "_model_module_version": "1.5.0",
            "_view_count": null,
            "_view_module_version": "1.2.0",
            "bar_color": null,
            "_model_module": "@jupyter-widgets/controls"
          }
        },
        "1a6adafb8d9f47ff87eba79f85e5423e": {
          "model_module": "@jupyter-widgets/base",
          "model_name": "LayoutModel",
          "state": {
            "_view_name": "LayoutView",
            "grid_template_rows": null,
            "right": null,
            "justify_content": null,
            "_view_module": "@jupyter-widgets/base",
            "overflow": null,
            "_model_module_version": "1.2.0",
            "_view_count": null,
            "flex_flow": null,
            "width": null,
            "min_width": null,
            "border": null,
            "align_items": null,
            "bottom": null,
            "_model_module": "@jupyter-widgets/base",
            "top": null,
            "grid_column": null,
            "overflow_y": null,
            "overflow_x": null,
            "grid_auto_flow": null,
            "grid_area": null,
            "grid_template_columns": null,
            "flex": null,
            "_model_name": "LayoutModel",
            "justify_items": null,
            "grid_row": null,
            "max_height": null,
            "align_content": null,
            "visibility": null,
            "align_self": null,
            "height": null,
            "min_height": null,
            "padding": null,
            "grid_auto_rows": null,
            "grid_gap": null,
            "max_width": null,
            "order": null,
            "_view_module_version": "1.2.0",
            "grid_template_areas": null,
            "object_position": null,
            "object_fit": null,
            "grid_auto_columns": null,
            "margin": null,
            "display": null,
            "left": null
          }
        },
        "04e7e1d80b14433c84302e69f45b790e": {
          "model_module": "@jupyter-widgets/controls",
          "model_name": "DescriptionStyleModel",
          "state": {
            "_view_name": "StyleView",
            "_model_name": "DescriptionStyleModel",
            "description_width": "",
            "_view_module": "@jupyter-widgets/base",
            "_model_module_version": "1.5.0",
            "_view_count": null,
            "_view_module_version": "1.2.0",
            "_model_module": "@jupyter-widgets/controls"
          }
        },
        "2325b7e8325042848d13d8057e1655b1": {
          "model_module": "@jupyter-widgets/base",
          "model_name": "LayoutModel",
          "state": {
            "_view_name": "LayoutView",
            "grid_template_rows": null,
            "right": null,
            "justify_content": null,
            "_view_module": "@jupyter-widgets/base",
            "overflow": null,
            "_model_module_version": "1.2.0",
            "_view_count": null,
            "flex_flow": null,
            "width": null,
            "min_width": null,
            "border": null,
            "align_items": null,
            "bottom": null,
            "_model_module": "@jupyter-widgets/base",
            "top": null,
            "grid_column": null,
            "overflow_y": null,
            "overflow_x": null,
            "grid_auto_flow": null,
            "grid_area": null,
            "grid_template_columns": null,
            "flex": null,
            "_model_name": "LayoutModel",
            "justify_items": null,
            "grid_row": null,
            "max_height": null,
            "align_content": null,
            "visibility": null,
            "align_self": null,
            "height": null,
            "min_height": null,
            "padding": null,
            "grid_auto_rows": null,
            "grid_gap": null,
            "max_width": null,
            "order": null,
            "_view_module_version": "1.2.0",
            "grid_template_areas": null,
            "object_position": null,
            "object_fit": null,
            "grid_auto_columns": null,
            "margin": null,
            "display": null,
            "left": null
          }
        }
      }
    }
  },
  "cells": [
    {
      "cell_type": "markdown",
      "metadata": {
        "id": "view-in-github",
        "colab_type": "text"
      },
      "source": [
        "<a href=\"https://colab.research.google.com/github/M0315G/PyTorch-Basics/blob/main/Section1%20-%20Getting%20Started%20with%20PyTorch/1.4-Loading_data_in_PyTorch.ipynb\" target=\"_parent\"><img src=\"https://colab.research.google.com/assets/colab-badge.svg\" alt=\"Open In Colab\"/></a>"
      ]
    },
    {
      "cell_type": "markdown",
      "metadata": {
        "id": "tnbJXW4-ekc5"
      },
      "source": [
        "### **Loading data in PyTorch**"
      ]
    },
    {
      "cell_type": "markdown",
      "metadata": {
        "id": "STngjTHD9eqW"
      },
      "source": [
        "To do Machine Learinig you need data, and there are three concepts to master here:\n",
        "\n",
        "- Dataset\n",
        "- Dataloader\n",
        "- Transforms "
      ]
    },
    {
      "cell_type": "markdown",
      "metadata": {
        "id": "_t2gpXqZ9etR"
      },
      "source": [
        "Initially, let's use pandas to read the CSV file to create a dataset"
      ]
    },
    {
      "cell_type": "code",
      "metadata": {
        "colab": {
          "base_uri": "https://localhost:8080/",
          "height": 35
        },
        "id": "JXJ4Bkx7bnWH",
        "outputId": "61ea362e-2f9f-4900-e702-cdcf84d524af"
      },
      "source": [
        "import torch\n",
        "import pandas as pd\n",
        "from torch.utils.data import Dataset\n",
        "torch.__version__"
      ],
      "execution_count": 9,
      "outputs": [
        {
          "output_type": "execute_result",
          "data": {
            "application/vnd.google.colaboratory.intrinsic+json": {
              "type": "string"
            },
            "text/plain": [
              "'1.8.1+cu101'"
            ]
          },
          "metadata": {
            "tags": []
          },
          "execution_count": 9
        }
      ]
    },
    {
      "cell_type": "code",
      "metadata": {
        "id": "65C-Lu5ObnY1"
      },
      "source": [
        "class IrisDataset(Dataset):\n",
        "\n",
        "  def __init__(self):\n",
        "    # Load the data\n",
        "    self.data = pandas.read_csv('./Iris.csv')\n",
        "\n",
        "  def __len__(self):\n",
        "    # how much data do we have\n",
        "    return len(self.data)\n",
        "\n",
        "  def __getitem__(self, idx):\n",
        "    # Return the tuple at specified index\n",
        "    # Arguments:\n",
        "    #       idx {int} -- data at this position\n",
        "    return self.data.iloc[idx]"
      ],
      "execution_count": 10,
      "outputs": []
    },
    {
      "cell_type": "markdown",
      "metadata": {
        "id": "i2AxU8JfcNjX"
      },
      "source": [
        "Create an instance of this dataset"
      ]
    },
    {
      "cell_type": "code",
      "metadata": {
        "id": "3bgG9YNtcpE-"
      },
      "source": [
        "iris = IrisDataset()\n",
        "\n",
        "# Getting the length\n",
        "len(iris)\n",
        "\n",
        "# Getiing the data\n",
        "iris[0]"
      ],
      "execution_count": null,
      "outputs": []
    },
    {
      "cell_type": "markdown",
      "metadata": {
        "id": "7jRIGv6yDkcv"
      },
      "source": [
        "Now, there is a small issue, when doing training of a model, we need a tensor and right now we have a named tuple.\n",
        "\n",
        "---\n",
        "\n",
        "Thus we need to transform it"
      ]
    },
    {
      "cell_type": "code",
      "metadata": {
        "id": "_tH66YI2cx3G"
      },
      "source": [
        "class TensorIrisDataset(IrisDataset):\n",
        "\n",
        "  def __getitem__(self, idx):\n",
        "    # Get a single sample that is\n",
        "    #    {values:, label: }\n",
        "\n",
        "    sample = super().__getitem__(idx)\n",
        "    return {\n",
        "        'tensor': torch.tensor(\n",
        "            [sample.SepalLengthCm,\n",
        "             sample.SepalWidthCm,\n",
        "             sample.PetalLengthCm,\n",
        "             sample.PetalWidthCm]\n",
        "        ),\n",
        "        'label': sample.Species\n",
        "    }"
      ],
      "execution_count": 11,
      "outputs": []
    },
    {
      "cell_type": "markdown",
      "metadata": {
        "id": "69xPqO0C_wuD"
      },
      "source": [
        "Check it out"
      ]
    },
    {
      "cell_type": "code",
      "metadata": {
        "id": "35VrQ02-cx6m"
      },
      "source": [
        "tensors = TensorIrisDataset()\n",
        "\n",
        "# Getting the length\n",
        "len(tensors)\n",
        "\n",
        "# Getting a single training example\n",
        "tensors[0]"
      ],
      "execution_count": null,
      "outputs": []
    },
    {
      "cell_type": "markdown",
      "metadata": {
        "id": "Tmi0_v-qdObO"
      },
      "source": [
        "Moving forward, in Machine Learning training always takes place in batches, thus PyTorch has a very convenient loader that can take a dataset and turn it into batches so you can iterate"
      ]
    },
    {
      "cell_type": "code",
      "metadata": {
        "id": "Hin2tZoSE31A"
      },
      "source": [
        "from torch.utils.data import DataLoader"
      ],
      "execution_count": 12,
      "outputs": []
    },
    {
      "cell_type": "code",
      "metadata": {
        "id": "kMuKxXlCE68C"
      },
      "source": [
        "loader = DataLoader(tensors, batch_size=16, shuffle=True)\n",
        "for batch in loader:\n",
        "  print(batch)"
      ],
      "execution_count": null,
      "outputs": []
    },
    {
      "cell_type": "markdown",
      "metadata": {
        "id": "GUUo1nF9FFYH"
      },
      "source": [
        "And there's even a parallel posibility"
      ]
    },
    {
      "cell_type": "code",
      "metadata": {
        "id": "qkwbiLhfFEXm"
      },
      "source": [
        "parallel_loader = Dataloader(tensors, batch_size=16, shuffle=True, num_workers=4)\n",
        "for batch in parallel_loader:\n",
        "  print(batch)"
      ],
      "execution_count": null,
      "outputs": []
    },
    {
      "cell_type": "markdown",
      "metadata": {
        "id": "awajvsVRNDr0"
      },
      "source": [
        "Also, there are many predefined datasets in torchvision"
      ]
    },
    {
      "cell_type": "code",
      "metadata": {
        "id": "M39XcyJYNEC4"
      },
      "source": [
        "import torchvision\n",
        "import matplotlib.pyplot as plt"
      ],
      "execution_count": 13,
      "outputs": []
    },
    {
      "cell_type": "code",
      "metadata": {
        "colab": {
          "base_uri": "https://localhost:8080/"
        },
        "id": "_epBWLNfNmJt",
        "outputId": "205a1ce2-6940-4fb4-b1dc-1151a315d8de"
      },
      "source": [
        "# Lists the datasets in torchvision library\n",
        "dir(torchvision.datasets)"
      ],
      "execution_count": 14,
      "outputs": [
        {
          "output_type": "execute_result",
          "data": {
            "text/plain": [
              "['CIFAR10',\n",
              " 'CIFAR100',\n",
              " 'Caltech101',\n",
              " 'Caltech256',\n",
              " 'CelebA',\n",
              " 'Cityscapes',\n",
              " 'CocoCaptions',\n",
              " 'CocoDetection',\n",
              " 'DatasetFolder',\n",
              " 'EMNIST',\n",
              " 'FakeData',\n",
              " 'FashionMNIST',\n",
              " 'Flickr30k',\n",
              " 'Flickr8k',\n",
              " 'HMDB51',\n",
              " 'ImageFolder',\n",
              " 'ImageNet',\n",
              " 'KMNIST',\n",
              " 'Kinetics400',\n",
              " 'LSUN',\n",
              " 'LSUNClass',\n",
              " 'MNIST',\n",
              " 'Omniglot',\n",
              " 'PhotoTour',\n",
              " 'Places365',\n",
              " 'QMNIST',\n",
              " 'SBDataset',\n",
              " 'SBU',\n",
              " 'SEMEION',\n",
              " 'STL10',\n",
              " 'SVHN',\n",
              " 'UCF101',\n",
              " 'USPS',\n",
              " 'VOCDetection',\n",
              " 'VOCSegmentation',\n",
              " 'VisionDataset',\n",
              " 'WIDERFace',\n",
              " '__all__',\n",
              " '__builtins__',\n",
              " '__cached__',\n",
              " '__doc__',\n",
              " '__file__',\n",
              " '__loader__',\n",
              " '__name__',\n",
              " '__package__',\n",
              " '__path__',\n",
              " '__spec__',\n",
              " 'caltech',\n",
              " 'celeba',\n",
              " 'cifar',\n",
              " 'cityscapes',\n",
              " 'coco',\n",
              " 'fakedata',\n",
              " 'flickr',\n",
              " 'folder',\n",
              " 'hmdb51',\n",
              " 'imagenet',\n",
              " 'kinetics',\n",
              " 'lsun',\n",
              " 'mnist',\n",
              " 'omniglot',\n",
              " 'phototour',\n",
              " 'places365',\n",
              " 'sbd',\n",
              " 'sbu',\n",
              " 'semeion',\n",
              " 'stl10',\n",
              " 'svhn',\n",
              " 'ucf101',\n",
              " 'usps',\n",
              " 'utils',\n",
              " 'video_utils',\n",
              " 'vision',\n",
              " 'voc',\n",
              " 'widerface']"
            ]
          },
          "metadata": {
            "tags": []
          },
          "execution_count": 14
        }
      ]
    },
    {
      "cell_type": "code",
      "metadata": {
        "colab": {
          "base_uri": "https://localhost:8080/",
          "height": 117,
          "referenced_widgets": [
            "e83e248529ab4718a36f70350396adfc",
            "3f2b6a0389324db08bd088f0b551f53e",
            "f7adbb2c3ea142ab98f84ec51aef9505",
            "230780aefbb94907afbb233d7b05b5aa",
            "69bb111fd9a548869895a67827a2d676",
            "1a6adafb8d9f47ff87eba79f85e5423e",
            "04e7e1d80b14433c84302e69f45b790e",
            "2325b7e8325042848d13d8057e1655b1"
          ]
        },
        "id": "jaU9bDspNsRb",
        "outputId": "731d107b-6127-4e03-abd5-6f134b2d50c0"
      },
      "source": [
        "cifar = torchvision.datasets.CIFAR10('./var', download=True)\n",
        "cifar[0]"
      ],
      "execution_count": 15,
      "outputs": [
        {
          "output_type": "stream",
          "text": [
            "Downloading https://www.cs.toronto.edu/~kriz/cifar-10-python.tar.gz to ./var/cifar-10-python.tar.gz\n"
          ],
          "name": "stdout"
        },
        {
          "output_type": "display_data",
          "data": {
            "application/vnd.jupyter.widget-view+json": {
              "model_id": "e83e248529ab4718a36f70350396adfc",
              "version_minor": 0,
              "version_major": 2
            },
            "text/plain": [
              "HBox(children=(FloatProgress(value=0.0, max=170498071.0), HTML(value='')))"
            ]
          },
          "metadata": {
            "tags": []
          }
        },
        {
          "output_type": "stream",
          "text": [
            "\n",
            "Extracting ./var/cifar-10-python.tar.gz to ./var\n"
          ],
          "name": "stdout"
        },
        {
          "output_type": "execute_result",
          "data": {
            "text/plain": [
              "(<PIL.Image.Image image mode=RGB size=32x32 at 0x7FD81313DFD0>, 6)"
            ]
          },
          "metadata": {
            "tags": []
          },
          "execution_count": 15
        }
      ]
    },
    {
      "cell_type": "markdown",
      "metadata": {
        "id": "ECBQRM7bQmb0"
      },
      "source": [
        "Loading the image"
      ]
    },
    {
      "cell_type": "code",
      "metadata": {
        "colab": {
          "base_uri": "https://localhost:8080/",
          "height": 122
        },
        "id": "MZ935FL-QjUC",
        "outputId": "90794003-0864-4e52-bc8b-83d1c79189d7"
      },
      "source": [
        "fig = plt.figure(figsize=(1,1))\n",
        "sub = fig.add_subplot(111)\n",
        "sub.imshow(cifar[0][0])"
      ],
      "execution_count": 17,
      "outputs": [
        {
          "output_type": "execute_result",
          "data": {
            "text/plain": [
              "<matplotlib.image.AxesImage at 0x7fd8115c0d50>"
            ]
          },
          "metadata": {
            "tags": []
          },
          "execution_count": 17
        },
        {
          "output_type": "display_data",
          "data": {
            "image/png": "[encoded data removed]",
            "text/plain": [
              "<Figure size 72x72 with 1 Axes>"
            ]
          },
          "metadata": {
            "tags": [],
            "needs_background": "light"
          }
        }
      ]
    },
    {
      "cell_type": "markdown",
      "metadata": {
        "id": "pxdwzRxxQ0ci"
      },
      "source": [
        "Now, that's a frog, but we need a tensor of a frog.\n",
        "\n",
        "So, that's where transforms come in.\n",
        "Tranforms are built in to torchvision and are objects that implement __call__ can change the data"
      ]
    },
    {
      "cell_type": "code",
      "metadata": {
        "id": "itFf9KkCQwZn"
      },
      "source": [
        "from torchvision import transforms"
      ],
      "execution_count": 18,
      "outputs": []
    },
    {
      "cell_type": "code",
      "metadata": {
        "id": "0tDyFDBhRLAi"
      },
      "source": [
        "pipeline = transforms.Compose([transforms.ToTensor()])\n",
        "\n",
        "cifar_tr = torchvision.datasets.CIFAR10('./var', transform=pipeline)"
      ],
      "execution_count": 20,
      "outputs": []
    },
    {
      "cell_type": "code",
      "metadata": {
        "colab": {
          "base_uri": "https://localhost:8080/"
        },
        "id": "tRllWOwiRY0O",
        "outputId": "54266413-6538-4aec-dfd2-1cdc45c26632"
      },
      "source": [
        "cifar_tr[0]"
      ],
      "execution_count": 21,
      "outputs": [
        {
          "output_type": "execute_result",
          "data": {
            "text/plain": [
              "(tensor([[[0.2314, 0.1686, 0.1961,  ..., 0.6196, 0.5961, 0.5804],\n",
              "          [0.0627, 0.0000, 0.0706,  ..., 0.4824, 0.4667, 0.4784],\n",
              "          [0.0980, 0.0627, 0.1922,  ..., 0.4627, 0.4706, 0.4275],\n",
              "          ...,\n",
              "          [0.8157, 0.7882, 0.7765,  ..., 0.6275, 0.2196, 0.2078],\n",
              "          [0.7059, 0.6784, 0.7294,  ..., 0.7216, 0.3804, 0.3255],\n",
              "          [0.6941, 0.6588, 0.7020,  ..., 0.8471, 0.5922, 0.4824]],\n",
              " \n",
              "         [[0.2431, 0.1804, 0.1882,  ..., 0.5176, 0.4902, 0.4863],\n",
              "          [0.0784, 0.0000, 0.0314,  ..., 0.3451, 0.3255, 0.3412],\n",
              "          [0.0941, 0.0275, 0.1059,  ..., 0.3294, 0.3294, 0.2863],\n",
              "          ...,\n",
              "          [0.6667, 0.6000, 0.6314,  ..., 0.5216, 0.1216, 0.1333],\n",
              "          [0.5451, 0.4824, 0.5647,  ..., 0.5804, 0.2431, 0.2078],\n",
              "          [0.5647, 0.5059, 0.5569,  ..., 0.7216, 0.4627, 0.3608]],\n",
              " \n",
              "         [[0.2471, 0.1765, 0.1686,  ..., 0.4235, 0.4000, 0.4039],\n",
              "          [0.0784, 0.0000, 0.0000,  ..., 0.2157, 0.1961, 0.2235],\n",
              "          [0.0824, 0.0000, 0.0314,  ..., 0.1961, 0.1961, 0.1647],\n",
              "          ...,\n",
              "          [0.3765, 0.1333, 0.1020,  ..., 0.2745, 0.0275, 0.0784],\n",
              "          [0.3765, 0.1647, 0.1176,  ..., 0.3686, 0.1333, 0.1333],\n",
              "          [0.4549, 0.3686, 0.3412,  ..., 0.5490, 0.3294, 0.2824]]]), 6)"
            ]
          },
          "metadata": {
            "tags": []
          },
          "execution_count": 21
        }
      ]
    }
  ]
}