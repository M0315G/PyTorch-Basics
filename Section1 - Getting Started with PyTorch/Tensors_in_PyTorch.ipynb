{
  "nbformat": 4,
  "nbformat_minor": 0,
  "metadata": {
    "colab": {
      "name": "Tensors in PyTorch.ipynb",
      "provenance": [],
      "authorship_tag": "ABX9TyPLbpYxZW2LzakVm4Xj2Jm1",
      "include_colab_link": true
    },
    "kernelspec": {
      "name": "python3",
      "display_name": "Python 3"
    },
    "language_info": {
      "name": "python"
    }
  },
  "cells": [
    {
      "cell_type": "markdown",
      "metadata": {
        "id": "view-in-github",
        "colab_type": "text"
      },
      "source": [
        "<a href=\"https://colab.research.google.com/github/M0315G/PyTorch-Basics/blob/main/Section1%20-%20Getting%20Started%20with%20PyTorch/Tensors_in_PyTorch.ipynb\" target=\"_parent\"><img src=\"https://colab.research.google.com/assets/colab-badge.svg\" alt=\"Open In Colab\"/></a>"
      ]
    },
    {
      "cell_type": "markdown",
      "metadata": {
        "id": "tnbJXW4-ekc5"
      },
      "source": [
        "### **Tensors in PyTorch**"
      ]
    },
    {
      "cell_type": "code",
      "metadata": {
        "colab": {
          "base_uri": "https://localhost:8080/",
          "height": 35
        },
        "id": "JXJ4Bkx7bnWH",
        "outputId": "beea6beb-8b82-4d7b-ce55-02e6f6246688"
      },
      "source": [
        "import torch\n",
        "torch.__version__"
      ],
      "execution_count": 1,
      "outputs": [
        {
          "output_type": "execute_result",
          "data": {
            "application/vnd.google.colaboratory.intrinsic+json": {
              "type": "string"
            },
            "text/plain": [
              "'1.8.1+cu101'"
            ]
          },
          "metadata": {
            "tags": []
          },
          "execution_count": 1
        }
      ]
    },
    {
      "cell_type": "markdown",
      "metadata": {
        "id": "VzGsYyS8bsn4"
      },
      "source": [
        "Tensor in its simplest form is just a multidimentonal array.\n",
        "\n",
        "\n",
        "There are a lot of ways to create a Tensor in PyTorch. Check out [this page](https://pytorch.org/docs/stable/torch.html#creation-ops)."
      ]
    },
    {
      "cell_type": "code",
      "metadata": {
        "colab": {
          "base_uri": "https://localhost:8080/"
        },
        "id": "65C-Lu5ObnY1",
        "outputId": "90a228ae-8c17-4086-b813-9c5bcb69c8f3"
      },
      "source": [
        "# Creating an Empty Tensor\n",
        "\n",
        "e = torch.empty(2,2)\n",
        "e"
      ],
      "execution_count": 2,
      "outputs": [
        {
          "output_type": "execute_result",
          "data": {
            "text/plain": [
              "tensor([[8.6591e-03, 3.0817e-41],\n",
              "        [3.3631e-44, 0.0000e+00]])"
            ]
          },
          "metadata": {
            "tags": []
          },
          "execution_count": 2
        }
      ]
    },
    {
      "cell_type": "markdown",
      "metadata": {
        "id": "i2AxU8JfcNjX"
      },
      "source": [
        "Okay, you may think that it initializes them with *random values* but these above values are just something that was in memory. *They are not actually random.*\n",
        "\n",
        "---\n",
        "\n",
        "To create a tensor with **random values**, use the syntax given below"
      ]
    },
    {
      "cell_type": "code",
      "metadata": {
        "colab": {
          "base_uri": "https://localhost:8080/"
        },
        "id": "3bgG9YNtcpE-",
        "outputId": "bb8fa8ef-b914-4d70-9419-6a1b84c0e146"
      },
      "source": [
        "# Creating a Tensor with random values\n",
        "\n",
        "r = torch.rand(2,2)\n",
        "r"
      ],
      "execution_count": 3,
      "outputs": [
        {
          "output_type": "execute_result",
          "data": {
            "text/plain": [
              "tensor([[0.1480, 0.7175],\n",
              "        [0.6591, 0.0992]])"
            ]
          },
          "metadata": {
            "tags": []
          },
          "execution_count": 3
        }
      ]
    },
    {
      "cell_type": "code",
      "metadata": {
        "colab": {
          "base_uri": "https://localhost:8080/"
        },
        "id": "_tH66YI2cx3G",
        "outputId": "f491b478-8767-45bb-ec55-acbf7b3cc284"
      },
      "source": [
        "# Creating a Tensor initialized with zeros\n",
        "\n",
        "z = torch.zeros(2,2)\n",
        "z"
      ],
      "execution_count": 4,
      "outputs": [
        {
          "output_type": "execute_result",
          "data": {
            "text/plain": [
              "tensor([[0., 0.],\n",
              "        [0., 0.]])"
            ]
          },
          "metadata": {
            "tags": []
          },
          "execution_count": 4
        }
      ]
    },
    {
      "cell_type": "code",
      "metadata": {
        "colab": {
          "base_uri": "https://localhost:8080/"
        },
        "id": "35VrQ02-cx6m",
        "outputId": "24e63205-1c5b-437d-ba79-ee180de65ad1"
      },
      "source": [
        "# Creating a Tensor with specific constants\n",
        "\n",
        "c = torch.full((2,2), 3)  # Replace 3 with any constant number you want your Tensor to take\n",
        "c"
      ],
      "execution_count": 6,
      "outputs": [
        {
          "output_type": "execute_result",
          "data": {
            "text/plain": [
              "tensor([[3, 3],\n",
              "        [3, 3]])"
            ]
          },
          "metadata": {
            "tags": []
          },
          "execution_count": 6
        }
      ]
    },
    {
      "cell_type": "markdown",
      "metadata": {
        "id": "Tmi0_v-qdObO"
      },
      "source": [
        "The **best way** to create Tensors is **```torch.tensor()```** method. \n",
        "\n",
        "You can pass **various types of data** to it, for example - lists"
      ]
    },
    {
      "cell_type": "code",
      "metadata": {
        "colab": {
          "base_uri": "https://localhost:8080/"
        },
        "id": "jUR91oYJdGuP",
        "outputId": "f5567761-f646-4a0b-9dd8-a311cd2d3c07"
      },
      "source": [
        "l = torch.tensor([[1, 2], [3, 4]])\n",
        "l"
      ],
      "execution_count": 7,
      "outputs": [
        {
          "output_type": "execute_result",
          "data": {
            "text/plain": [
              "tensor([[1, 2],\n",
              "        [3, 4]])"
            ]
          },
          "metadata": {
            "tags": []
          },
          "execution_count": 7
        }
      ]
    },
    {
      "cell_type": "markdown",
      "metadata": {
        "id": "jdoOz9VJdmU2"
      },
      "source": [
        "You can also interpolate it with **numpy arrays**, which is very handy to work with as most of the time your data will be in numpy format"
      ]
    },
    {
      "cell_type": "code",
      "metadata": {
        "colab": {
          "base_uri": "https://localhost:8080/"
        },
        "id": "rgKz8LLkdG1e",
        "outputId": "ae215a00-98e5-4547-b7bc-a77e208028a6"
      },
      "source": [
        "import numpy as np\n",
        "\n",
        "n = np.linspace(0, 5, 5)\n",
        "n"
      ],
      "execution_count": 8,
      "outputs": [
        {
          "output_type": "execute_result",
          "data": {
            "text/plain": [
              "array([0.  , 1.25, 2.5 , 3.75, 5.  ])"
            ]
          },
          "metadata": {
            "tags": []
          },
          "execution_count": 8
        }
      ]
    },
    {
      "cell_type": "code",
      "metadata": {
        "colab": {
          "base_uri": "https://localhost:8080/"
        },
        "id": "SPr5h18Dd8m9",
        "outputId": "991508c9-f726-45f5-df01-3ba00bd9bf72"
      },
      "source": [
        "# Turning it into a tensor\n",
        "\n",
        "nn = torch.tensor(n)\n",
        "nn"
      ],
      "execution_count": 9,
      "outputs": [
        {
          "output_type": "execute_result",
          "data": {
            "text/plain": [
              "tensor([0.0000, 1.2500, 2.5000, 3.7500, 5.0000], dtype=torch.float64)"
            ]
          },
          "metadata": {
            "tags": []
          },
          "execution_count": 9
        }
      ]
    },
    {
      "cell_type": "code",
      "metadata": {
        "colab": {
          "base_uri": "https://localhost:8080/"
        },
        "id": "AbKWGGhheCaH",
        "outputId": "86152317-8ceb-478d-c92a-a82d56e1fc6c"
      },
      "source": [
        "# You can even turn it back to numpy anytime you want to\n",
        "\n",
        "nn.numpy()"
      ],
      "execution_count": 10,
      "outputs": [
        {
          "output_type": "execute_result",
          "data": {
            "text/plain": [
              "array([0.  , 1.25, 2.5 , 3.75, 5.  ])"
            ]
          },
          "metadata": {
            "tags": []
          },
          "execution_count": 10
        }
      ]
    },
    {
      "cell_type": "markdown",
      "metadata": {
        "id": "GN4ib_deeMPG"
      },
      "source": [
        "You can also **specify the data type** of the tensor in any of the methods seen above."
      ]
    },
    {
      "cell_type": "code",
      "metadata": {
        "colab": {
          "base_uri": "https://localhost:8080/"
        },
        "id": "qvjCEBdQeYE9",
        "outputId": "516a0c99-27c2-45d4-f493-6cbad0b6f99f"
      },
      "source": [
        "s = torch.ones(3, 3, dtype=torch.float)\n",
        "s"
      ],
      "execution_count": 11,
      "outputs": [
        {
          "output_type": "execute_result",
          "data": {
            "text/plain": [
              "tensor([[1., 1., 1.],\n",
              "        [1., 1., 1.],\n",
              "        [1., 1., 1.]])"
            ]
          },
          "metadata": {
            "tags": []
          },
          "execution_count": 11
        }
      ]
    },
    {
      "cell_type": "markdown",
      "metadata": {
        "id": "eATegvWrefsl"
      },
      "source": [
        "You can perform **all kinds of math operations** on them. Visit [this page](https://pytorch.org/docs/stable/torch.html#math-operations) for more info."
      ]
    },
    {
      "cell_type": "code",
      "metadata": {
        "colab": {
          "base_uri": "https://localhost:8080/"
        },
        "id": "ydlSEVOSed2T",
        "outputId": "bf412f84-d69a-4bd4-f33b-74f25ae21acf"
      },
      "source": [
        "# addition\n",
        "\n",
        "eye = torch.eye(3, 3)  # Creating a Identity tensor\n",
        "eye + torch.zeros(3, 3)"
      ],
      "execution_count": 12,
      "outputs": [
        {
          "output_type": "execute_result",
          "data": {
            "text/plain": [
              "tensor([[1., 0., 0.],\n",
              "        [0., 1., 0.],\n",
              "        [0., 0., 1.]])"
            ]
          },
          "metadata": {
            "tags": []
          },
          "execution_count": 12
        }
      ]
    },
    {
      "cell_type": "code",
      "metadata": {
        "colab": {
          "base_uri": "https://localhost:8080/"
        },
        "id": "99cbmHY1e4qZ",
        "outputId": "e33ccc37-dc88-4897-a2b5-5174c6bd0557"
      },
      "source": [
        "# subtraction\n",
        "\n",
        "eye - torch.ones(3, 3)"
      ],
      "execution_count": 14,
      "outputs": [
        {
          "output_type": "execute_result",
          "data": {
            "text/plain": [
              "tensor([[ 0., -1., -1.],\n",
              "        [-1.,  0., -1.],\n",
              "        [-1., -1.,  0.]])"
            ]
          },
          "metadata": {
            "tags": []
          },
          "execution_count": 14
        }
      ]
    },
    {
      "cell_type": "code",
      "metadata": {
        "colab": {
          "base_uri": "https://localhost:8080/"
        },
        "id": "0cWCZkp9e82k",
        "outputId": "b54feb72-8610-43cc-f963-588a4a4d1119"
      },
      "source": [
        "# broadcast multiplication of a constant\n",
        "\n",
        "eye * 3"
      ],
      "execution_count": 15,
      "outputs": [
        {
          "output_type": "execute_result",
          "data": {
            "text/plain": [
              "tensor([[3., 0., 0.],\n",
              "        [0., 3., 0.],\n",
              "        [0., 0., 3.]])"
            ]
          },
          "metadata": {
            "tags": []
          },
          "execution_count": 15
        }
      ]
    },
    {
      "cell_type": "code",
      "metadata": {
        "colab": {
          "base_uri": "https://localhost:8080/"
        },
        "id": "vn4fPnh4fEsl",
        "outputId": "63d63f57-59f4-4f65-bd59-7eed0f2429b4"
      },
      "source": [
        "# or broadcast the division\n",
        "\n",
        "eye / 3"
      ],
      "execution_count": 16,
      "outputs": [
        {
          "output_type": "execute_result",
          "data": {
            "text/plain": [
              "tensor([[0.3333, 0.0000, 0.0000],\n",
              "        [0.0000, 0.3333, 0.0000],\n",
              "        [0.0000, 0.0000, 0.3333]])"
            ]
          },
          "metadata": {
            "tags": []
          },
          "execution_count": 16
        }
      ]
    },
    {
      "cell_type": "code",
      "metadata": {
        "colab": {
          "base_uri": "https://localhost:8080/"
        },
        "id": "5aKpIMqrfIz7",
        "outputId": "0dded7de-da7b-415f-f525-5068e8b50f67"
      },
      "source": [
        "# or perform element-wise tensor multiplication\n",
        "\n",
        "eye * torch.full((3,3), 4)"
      ],
      "execution_count": 17,
      "outputs": [
        {
          "output_type": "execute_result",
          "data": {
            "text/plain": [
              "tensor([[4., 0., 0.],\n",
              "        [0., 4., 0.],\n",
              "        [0., 0., 4.]])"
            ]
          },
          "metadata": {
            "tags": []
          },
          "execution_count": 17
        }
      ]
    },
    {
      "cell_type": "code",
      "metadata": {
        "colab": {
          "base_uri": "https://localhost:8080/"
        },
        "id": "xM_v9BHpfYP6",
        "outputId": "df8e7574-c7b2-4fb4-aa21-7c4c2ef901ec"
      },
      "source": [
        "# dot product\n",
        "\n",
        "x = torch.rand(3, 4)\n",
        "y = torch.rand(4, 3)\n",
        "x@y"
      ],
      "execution_count": 18,
      "outputs": [
        {
          "output_type": "execute_result",
          "data": {
            "text/plain": [
              "tensor([[1.0499, 0.7736, 0.6899],\n",
              "        [1.3540, 0.9258, 1.0999],\n",
              "        [1.7278, 1.1631, 1.4033]])"
            ]
          },
          "metadata": {
            "tags": []
          },
          "execution_count": 18
        }
      ]
    }
  ]
}