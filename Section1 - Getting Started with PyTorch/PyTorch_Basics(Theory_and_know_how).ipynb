{
  "nbformat": 4,
  "nbformat_minor": 0,
  "metadata": {
    "colab": {
      "name": "PyTorch Basics(Theory and know-how).ipynb",
      "provenance": [],
      "authorship_tag": "ABX9TyNAobZdivHykdm7Ug3WLL+N",
      "include_colab_link": true
    },
    "kernelspec": {
      "name": "python3",
      "display_name": "Python 3"
    },
    "language_info": {
      "name": "python"
    }
  },
  "cells": [
    {
      "cell_type": "markdown",
      "metadata": {
        "id": "view-in-github",
        "colab_type": "text"
      },
      "source": [
        "<a href=\"https://colab.research.google.com/github/M0315G/PyTorch-Basics/blob/main/Section1%20-%20Getting%20Started%20with%20PyTorch/PyTorch_Basics(Theory_and_know_how).ipynb\" target=\"_parent\"><img src=\"https://colab.research.google.com/assets/colab-badge.svg\" alt=\"Open In Colab\"/></a>"
      ]
    },
    {
      "cell_type": "markdown",
      "metadata": {
        "id": "tnbJXW4-ekc5"
      },
      "source": [
        "### **What is PyTorch?**"
      ]
    },
    {
      "cell_type": "markdown",
      "metadata": {
        "id": "VQKv_zhWet16"
      },
      "source": [
        "It is a Deep Learning Framework which supprts multiple features like:\n",
        "- Just in time graph compilation\n",
        "- Distributed multi-machine training\n",
        "- GPU support\n",
        "- ONNX support\n",
        "\n",
        "and a great community to interact with\n"
      ]
    },
    {
      "cell_type": "markdown",
      "metadata": {
        "id": "Qe0s7ewlet70"
      },
      "source": [
        "### **What can PyTorch do?**"
      ]
    },
    {
      "cell_type": "markdown",
      "metadata": {
        "id": "726OL0JUet-e"
      },
      "source": [
        "PyTorch can do:\n",
        "- math and algrbra much like Numpy\n",
        "- Automatically differentiate networks of math operations\n",
        "- deep learning (all the way from experimentation to production)"
      ]
    },
    {
      "cell_type": "markdown",
      "metadata": {
        "id": "J8ywJoJvfpbY"
      },
      "source": [
        "### How does PyTorch compare?"
      ]
    },
    {
      "cell_type": "markdown",
      "metadata": {
        "id": "M_gJKCUffprD"
      },
      "source": [
        ""
      ]
    }
  ]
}