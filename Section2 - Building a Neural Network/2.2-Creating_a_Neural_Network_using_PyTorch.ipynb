{
  "nbformat": 4,
  "nbformat_minor": 0,
  "metadata": {
    "colab": {
      "name": "2.2-Creating a Neural Network using PyTorch",
      "provenance": [],
      "authorship_tag": "ABX9TyOV0ok2tsfOo3qaWiwbiCTG",
      "include_colab_link": true
    },
    "kernelspec": {
      "name": "python3",
      "display_name": "Python 3"
    },
    "language_info": {
      "name": "python"
    }
  },
  "cells": [
    {
      "cell_type": "markdown",
      "metadata": {
        "id": "view-in-github",
        "colab_type": "text"
      },
      "source": [
        "<a href=\"https://colab.research.google.com/github/M0315G/PyTorch-Basics/blob/main/Section2%20-%20Building%20a%20Neural%20Network/2.2-Creating_a_Neural_Network_using_PyTorch.ipynb\" target=\"_parent\"><img src=\"https://colab.research.google.com/assets/colab-badge.svg\" alt=\"Open In Colab\"/></a>"
      ]
    },
    {
      "cell_type": "markdown",
      "metadata": {
        "id": "tnbJXW4-ekc5"
      },
      "source": [
        "### **Neural network using PyTorch**"
      ]
    },
    {
      "cell_type": "code",
      "metadata": {
        "id": "JXJ4Bkx7bnWH"
      },
      "source": [
        "import torch"
      ],
      "execution_count": 9,
      "outputs": []
    },
    {
      "cell_type": "markdown",
      "metadata": {
        "id": "p-rsitIjoSco"
      },
      "source": [
        "Initially, we'll only focus on creating the network and not on data or data loading, so we'll keep it simple and build up the  network step by step."
      ]
    },
    {
      "cell_type": "markdown",
      "metadata": {
        "id": "___jN_ThrPsv"
      },
      "source": [
        "We'll use dummy random inputs and outputs and connect them in a network"
      ]
    },
    {
      "cell_type": "markdown",
      "metadata": {
        "id": "npGbEFdrrccy"
      },
      "source": [
        "**Inputs**\n",
        "\n",
        "This is a tensor of *batch* of size 1, with 1 color channel (grey scale)"
      ]
    },
    {
      "cell_type": "code",
      "metadata": {
        "id": "65C-Lu5ObnY1",
        "colab": {
          "base_uri": "https://localhost:8080/"
        },
        "outputId": "0d5d7a66-c303-4409-9a9e-13b7824fb23e"
      },
      "source": [
        "inputs = torch.rand(1, 1, 64, 64)\n",
        "inputs"
      ],
      "execution_count": 10,
      "outputs": [
        {
          "output_type": "execute_result",
          "data": {
            "text/plain": [
              "tensor([[[[0.3099, 0.9244, 0.3196,  ..., 0.5964, 0.8354, 0.6841],\n",
              "          [0.3463, 0.0181, 0.8129,  ..., 0.1704, 0.3294, 0.5159],\n",
              "          [0.4908, 0.0826, 0.1148,  ..., 0.2240, 0.0292, 0.5369],\n",
              "          ...,\n",
              "          [0.3475, 0.0795, 0.4649,  ..., 0.7598, 0.7866, 0.3365],\n",
              "          [0.6011, 0.8944, 0.4615,  ..., 0.2252, 0.5668, 0.7598],\n",
              "          [0.4788, 0.2840, 0.0184,  ..., 0.2873, 0.1201, 0.5369]]]])"
            ]
          },
          "metadata": {
            "tags": []
          },
          "execution_count": 10
        }
      ]
    },
    {
      "cell_type": "markdown",
      "metadata": {
        "id": "i2AxU8JfcNjX"
      },
      "source": [
        "**Outputs**\n",
        "\n",
        "Pretend we're building a binary classifier, so we'll have two output possibilities, with a batch size of 1.\n",
        "\n",
        "We'll use rand again, so each thing can be a little bit category 0 and a little bit category 1"
      ]
    },
    {
      "cell_type": "code",
      "metadata": {
        "id": "3bgG9YNtcpE-",
        "colab": {
          "base_uri": "https://localhost:8080/"
        },
        "outputId": "bbf6b188-55f5-4282-debf-b316a08089b4"
      },
      "source": [
        "outputs = torch.rand(1, 2)\n",
        "outputs"
      ],
      "execution_count": 11,
      "outputs": [
        {
          "output_type": "execute_result",
          "data": {
            "text/plain": [
              "tensor([[0.5189, 0.8194]])"
            ]
          },
          "metadata": {
            "tags": []
          },
          "execution_count": 11
        }
      ]
    },
    {
      "cell_type": "markdown",
      "metadata": {
        "id": "Em0SedmTsaS4"
      },
      "source": [
        "In real time, these inputs and outputs will be your actual data, loaded up, in datasets, converted into batches."
      ]
    },
    {
      "cell_type": "markdown",
      "metadata": {
        "id": "f6DxV9KWsm89"
      },
      "source": [
        "Now, we'll create a  model with layers of linear -- these will themselves have tensors inside filled with random numbers called parameters, and these parameters is the thing that machine learning algorithms optimize to learn the mapping from an input to an output"
      ]
    },
    {
      "cell_type": "code",
      "metadata": {
        "id": "_tH66YI2cx3G"
      },
      "source": [
        "model = torch.nn.Sequential(\n",
        "    \n",
        "    torch.nn.Linear(64, 256),\n",
        "    torch.nn.Linear(256, 256),\n",
        "    torch.nn.Linear(256, 2),\n",
        ")"
      ],
      "execution_count": 12,
      "outputs": []
    },
    {
      "cell_type": "code",
      "metadata": {
        "colab": {
          "base_uri": "https://localhost:8080/"
        },
        "id": "OSB0tfKotVSy",
        "outputId": "f3db911f-36be-4137-e591-204c3554e9b2"
      },
      "source": [
        "print(model)"
      ],
      "execution_count": 13,
      "outputs": [
        {
          "output_type": "stream",
          "text": [
            "Sequential(\n",
            "  (0): Linear(in_features=64, out_features=256, bias=True)\n",
            "  (1): Linear(in_features=256, out_features=256, bias=True)\n",
            "  (2): Linear(in_features=256, out_features=2, bias=True)\n",
            ")\n"
          ],
          "name": "stdout"
        }
      ]
    },
    {
      "cell_type": "markdown",
      "metadata": {
        "id": "6SKgaBTStbbr"
      },
      "source": [
        "Remember that this model isn't learning. We're just running our random initialized linear network over our Inputs"
      ]
    },
    {
      "cell_type": "code",
      "metadata": {
        "colab": {
          "base_uri": "https://localhost:8080/"
        },
        "id": "aQp2t2DCtlBT",
        "outputId": "bc2faf35-2701-4019-c1ab-00088d30caca"
      },
      "source": [
        "results = model(inputs)\n",
        "results, results.shape"
      ],
      "execution_count": 14,
      "outputs": [
        {
          "output_type": "execute_result",
          "data": {
            "text/plain": [
              "(tensor([[[[ 0.0715, -0.0050],\n",
              "           [ 0.0384, -0.0638],\n",
              "           [ 0.1322, -0.2000],\n",
              "           [ 0.0833, -0.0859],\n",
              "           [ 0.0313, -0.0425],\n",
              "           [ 0.0917, -0.0610],\n",
              "           [ 0.0073, -0.0462],\n",
              "           [ 0.1380, -0.0408],\n",
              "           [ 0.1273, -0.0075],\n",
              "           [ 0.1384, -0.0238],\n",
              "           [ 0.1089, -0.0311],\n",
              "           [ 0.1207, -0.0037],\n",
              "           [ 0.1537, -0.0231],\n",
              "           [ 0.1773, -0.0965],\n",
              "           [ 0.1408, -0.0981],\n",
              "           [-0.0095,  0.0188],\n",
              "           [ 0.1191, -0.0981],\n",
              "           [ 0.1134, -0.0303],\n",
              "           [ 0.1721, -0.0444],\n",
              "           [ 0.0084, -0.0056],\n",
              "           [ 0.0355, -0.0229],\n",
              "           [ 0.0578, -0.0155],\n",
              "           [ 0.0190, -0.0133],\n",
              "           [ 0.0330, -0.0850],\n",
              "           [ 0.1477, -0.0737],\n",
              "           [ 0.0398, -0.0898],\n",
              "           [-0.0530, -0.0802],\n",
              "           [ 0.1976, -0.0572],\n",
              "           [ 0.1022,  0.0092],\n",
              "           [ 0.0675, -0.1517],\n",
              "           [ 0.0340, -0.0468],\n",
              "           [ 0.0838, -0.0519],\n",
              "           [ 0.0039, -0.0396],\n",
              "           [ 0.2354, -0.0671],\n",
              "           [ 0.1424, -0.1728],\n",
              "           [ 0.1382,  0.0024],\n",
              "           [ 0.1054, -0.0683],\n",
              "           [ 0.0195, -0.1188],\n",
              "           [ 0.0084, -0.0752],\n",
              "           [ 0.0614,  0.0067],\n",
              "           [ 0.0445, -0.0958],\n",
              "           [ 0.1078, -0.0020],\n",
              "           [ 0.1270, -0.1049],\n",
              "           [ 0.1232,  0.0052],\n",
              "           [ 0.0685,  0.0204],\n",
              "           [ 0.2043, -0.0728],\n",
              "           [ 0.0828,  0.0245],\n",
              "           [ 0.0305, -0.1742],\n",
              "           [ 0.0384, -0.0222],\n",
              "           [ 0.1339, -0.0162],\n",
              "           [ 0.0586,  0.0212],\n",
              "           [ 0.1952, -0.0807],\n",
              "           [ 0.0887, -0.0465],\n",
              "           [ 0.0197,  0.0132],\n",
              "           [ 0.1177, -0.0617],\n",
              "           [ 0.0871, -0.0271],\n",
              "           [ 0.1390, -0.0220],\n",
              "           [ 0.1644, -0.0355],\n",
              "           [ 0.0719, -0.0802],\n",
              "           [ 0.1284, -0.0300],\n",
              "           [ 0.0497, -0.0598],\n",
              "           [ 0.0360, -0.0033],\n",
              "           [ 0.1430, -0.0471],\n",
              "           [ 0.1279,  0.0537]]]], grad_fn=<AddBackward0>),\n",
              " torch.Size([1, 1, 64, 2]))"
            ]
          },
          "metadata": {
            "tags": []
          },
          "execution_count": 14
        }
      ]
    }
  ]
}